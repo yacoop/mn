{
 "cells": [
  {
   "cell_type": "code",
   "execution_count": 1,
   "id": "amino-induction",
   "metadata": {},
   "outputs": [],
   "source": [
    "import numpy as np\n",
    "import matplotlib.pyplot as plt"
   ]
  },
  {
   "cell_type": "code",
   "execution_count": 2,
   "id": "genuine-algorithm",
   "metadata": {},
   "outputs": [],
   "source": [
    "def fun(x):\n",
    "    return (x-2)*(x-3)*(x-6)"
   ]
  },
  {
   "cell_type": "code",
   "execution_count": 3,
   "id": "funny-binding",
   "metadata": {},
   "outputs": [],
   "source": [
    "def bisection(a, b, eps, fun):\n",
    "    if(fun(a) * fun(b) < 0):\n",
    "        x_0 = a + (b-a)/2\n",
    "        if(abs(fun(x_0)) < eps):\n",
    "            print(x_0)\n",
    "            return x_0\n",
    "        elif(fun(x_0) * fun(a) > 0):\n",
    "            bisection(a, x_0, eps, fun, x_0s)\n",
    "        else:\n",
    "            bisection(x_0, b, eps, fun, x_0s)\n",
    "    elif(abs(fun(a)) < eps):\n",
    "        print(a)\n",
    "        return a\n",
    "    else:\n",
    "        print(\"bledny przedzial\")"
   ]
  },
  {
   "cell_type": "code",
   "execution_count": 4,
   "id": "comic-singles",
   "metadata": {},
   "outputs": [],
   "source": [
    "a = 1\n",
    "b = 7\n",
    "N = 10\n",
    "\n",
    "eps = 10**-9\n",
    "\n",
    "l = np.linspace(a, b, N)"
   ]
  },
  {
   "cell_type": "code",
   "execution_count": 5,
   "id": "maritime-pitch",
   "metadata": {},
   "outputs": [
    {
     "name": "stdout",
     "output_type": "stream",
     "text": [
      "bledny przedzial\n",
      "1.9999999999999998\n",
      "bledny przedzial\n",
      "3.0\n",
      "bledny przedzial\n",
      "bledny przedzial\n",
      "bledny przedzial\n",
      "6.0\n",
      "Rozwiazanie 1 : 1.9999999999999998\n",
      "Rozwiazanie 2 : 3.0\n",
      "Rozwiazanie 3 : 6.0\n"
     ]
    }
   ],
   "source": [
    "x_0s = [bisection(v1, v2, eps, fun) for v1, v2 in zip(l[:-2], l[1:])]\n",
    "x_0s = [x for x in x_0s if x is not None]\n",
    "\n",
    "for i, x_0 in enumerate(x_0s):\n",
    "    print(\"Rozwiazanie\", i+1, \":\", x_0)"
   ]
  },
  {
   "cell_type": "code",
   "execution_count": 6,
   "id": "aggregate-mediterranean",
   "metadata": {},
   "outputs": [
    {
     "data": {
      "text/plain": [
       "[<matplotlib.lines.Line2D at 0x7fd2ec787b80>]"
      ]
     },
     "execution_count": 6,
     "metadata": {},
     "output_type": "execute_result"
    },
    {
     "data": {
      "image/png": "[encoded data removed]",
      "text/plain": [
       "<Figure size 432x288 with 1 Axes>"
      ]
     },
     "metadata": {
      "needs_background": "light"
     },
     "output_type": "display_data"
    }
   ],
   "source": [
    "x = np.linspace(1, 7, 100)\n",
    "\n",
    "plt.plot(x, fun(x))\n",
    "plt.plot(x_0s, [fun(x_i) for x_i in x_0s], \"o\")"
   ]
  }
 ],
 "metadata": {
  "kernelspec": {
   "display_name": "Python 3",
   "language": "python",
   "name": "python3"
  },
  "language_info": {
   "codemirror_mode": {
    "name": "ipython",
    "version": 3
   },
   "file_extension": ".py",
   "mimetype": "text/x-python",
   "name": "python",
   "nbconvert_exporter": "python",
   "pygments_lexer": "ipython3",
   "version": "3.9.2"
  }
 },
 "nbformat": 4,
 "nbformat_minor": 5
}

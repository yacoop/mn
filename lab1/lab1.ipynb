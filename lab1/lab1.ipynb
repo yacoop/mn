{
 "cells": [
  {
   "cell_type": "markdown",
   "id": "operational-privilege",
   "metadata": {},
   "source": [
    "# zadanie 1"
   ]
  },
  {
   "cell_type": "code",
   "execution_count": 15,
   "id": "ultimate-louisville",
   "metadata": {},
   "outputs": [],
   "source": [
    "import math"
   ]
  },
  {
   "cell_type": "markdown",
   "id": "broken-chaos",
   "metadata": {},
   "source": [
    "## (1)"
   ]
  },
  {
   "cell_type": "code",
   "execution_count": 13,
   "id": "forbidden-source",
   "metadata": {},
   "outputs": [],
   "source": [
    "a = range(1, 6)\n",
    "\n",
    "f = lambda a: math.sin(a)/math.exp(-(15-a)/2)"
   ]
  },
  {
   "cell_type": "code",
   "execution_count": 14,
   "id": "bridal-visiting",
   "metadata": {},
   "outputs": [
    {
     "data": {
      "text/plain": [
       "[922.784983795789,\n",
       " 604.8115754018701,\n",
       " 56.931874589277285,\n",
       " -185.18346491928057,\n",
       " -142.31698094290323]"
      ]
     },
     "execution_count": 14,
     "metadata": {},
     "output_type": "execute_result"
    }
   ],
   "source": [
    "y = [f(a) for a in a]\n",
    "y"
   ]
  },
  {
   "cell_type": "markdown",
   "id": "suburban-boating",
   "metadata": {},
   "source": [
    "## (2) "
   ]
  },
  {
   "cell_type": "code",
   "execution_count": 16,
   "id": "completed-outside",
   "metadata": {},
   "outputs": [],
   "source": [
    "import numpy as np"
   ]
  },
  {
   "cell_type": "code",
   "execution_count": 18,
   "id": "missing-argentina",
   "metadata": {},
   "outputs": [],
   "source": [
    "a = range(1, 6)\n",
    "\n",
    "f = lambda a: np.sin(a)/np.exp(-(15-a)/2)"
   ]
  },
  {
   "cell_type": "code",
   "execution_count": 19,
   "id": "dirty-brisbane",
   "metadata": {},
   "outputs": [
    {
     "data": {
      "text/plain": [
       "[922.784983795789,\n",
       " 604.8115754018701,\n",
       " 56.931874589277285,\n",
       " -185.18346491928057,\n",
       " -142.31698094290323]"
      ]
     },
     "execution_count": 19,
     "metadata": {},
     "output_type": "execute_result"
    }
   ],
   "source": [
    "y = [f(a) for a in a]\n",
    "y"
   ]
  },
  {
   "cell_type": "markdown",
   "id": "heated-gasoline",
   "metadata": {},
   "source": [
    "# Zadanie 2"
   ]
  },
  {
   "cell_type": "code",
   "execution_count": 20,
   "id": "viral-sunglasses",
   "metadata": {},
   "outputs": [],
   "source": [
    "import matplotlib.pyplot as plt"
   ]
  },
  {
   "cell_type": "code",
   "execution_count": 31,
   "id": "wanted-string",
   "metadata": {},
   "outputs": [],
   "source": [
    "x = np.linspace(0, 10, 500)"
   ]
  },
  {
   "cell_type": "code",
   "execution_count": 51,
   "id": "acceptable-uruguay",
   "metadata": {},
   "outputs": [],
   "source": [
    "def fun(x):\n",
    "    return np.exp(-x)*np.sin(10*x)\n",
    "\n",
    "def obw1(x):\n",
    "    return np.exp(-x)\n",
    "\n",
    "def obw2(x):\n",
    "    return -np.exp(-x)"
   ]
  },
  {
   "cell_type": "code",
   "execution_count": 63,
   "id": "expected-india",
   "metadata": {},
   "outputs": [
    {
     "data": {
      "text/plain": [
       "[<matplotlib.lines.Line2D at 0x7f2bb647b4c0>]"
      ]
     },
     "execution_count": 63,
     "metadata": {},
     "output_type": "execute_result"
    },
    {
     "data": {
      "image/png": "[encoded data removed]",
      "text/plain": [
       "<Figure size 432x288 with 1 Axes>"
      ]
     },
     "metadata": {
      "needs_background": "light"
     },
     "output_type": "display_data"
    }
   ],
   "source": [
    "plt.plot(x, fun(x), \"o\", ms = 3)\n",
    "plt.plot(x, obw1(x))\n",
    "plt.plot(x, obw2(x))"
   ]
  },
  {
   "cell_type": "markdown",
   "id": "emotional-electric",
   "metadata": {},
   "source": [
    "# Zadanie 3"
   ]
  },
  {
   "cell_type": "code",
   "execution_count": 76,
   "id": "parliamentary-polyester",
   "metadata": {},
   "outputs": [],
   "source": [
    "def oddsum(a, b):\n",
    "    r = range(a,b)\n",
    "    return sum(filter(lambda x: x % 2 == 1, r))"
   ]
  },
  {
   "cell_type": "code",
   "execution_count": 78,
   "id": "prompt-cocktail",
   "metadata": {},
   "outputs": [
    {
     "data": {
      "text/plain": [
       "8"
      ]
     },
     "execution_count": 78,
     "metadata": {},
     "output_type": "execute_result"
    }
   ],
   "source": [
    "oddsum(2,6)"
   ]
  },
  {
   "cell_type": "markdown",
   "id": "intensive-champion",
   "metadata": {},
   "source": [
    "# Zadanie 4 "
   ]
  },
  {
   "cell_type": "code",
   "execution_count": 124,
   "id": "separate-feelings",
   "metadata": {},
   "outputs": [],
   "source": [
    "A1 = np.tile(1, (5,10))\n",
    "A2 = np.tile(3, (5,10))"
   ]
  },
  {
   "cell_type": "code",
   "execution_count": 125,
   "id": "prescription-hudson",
   "metadata": {},
   "outputs": [
    {
     "data": {
      "text/plain": [
       "array([[1, 1, 1, 1, 1, 1, 1, 1, 1, 1],\n",
       "       [1, 1, 1, 1, 1, 1, 1, 1, 1, 1],\n",
       "       [1, 1, 1, 1, 1, 1, 1, 1, 1, 1],\n",
       "       [1, 1, 1, 1, 1, 1, 1, 1, 1, 1],\n",
       "       [1, 1, 1, 1, 1, 1, 1, 1, 1, 1]])"
      ]
     },
     "execution_count": 125,
     "metadata": {},
     "output_type": "execute_result"
    }
   ],
   "source": [
    "A1"
   ]
  },
  {
   "cell_type": "code",
   "execution_count": 126,
   "id": "characteristic-standing",
   "metadata": {},
   "outputs": [
    {
     "data": {
      "text/plain": [
       "array([[3, 3, 3, 3, 3, 3, 3, 3, 3, 3],\n",
       "       [3, 3, 3, 3, 3, 3, 3, 3, 3, 3],\n",
       "       [3, 3, 3, 3, 3, 3, 3, 3, 3, 3],\n",
       "       [3, 3, 3, 3, 3, 3, 3, 3, 3, 3],\n",
       "       [3, 3, 3, 3, 3, 3, 3, 3, 3, 3]])"
      ]
     },
     "execution_count": 126,
     "metadata": {},
     "output_type": "execute_result"
    }
   ],
   "source": [
    "A2"
   ]
  },
  {
   "cell_type": "code",
   "execution_count": 127,
   "id": "fuzzy-christopher",
   "metadata": {},
   "outputs": [],
   "source": [
    "A = np.concatenate((A1, A2))"
   ]
  },
  {
   "cell_type": "code",
   "execution_count": 128,
   "id": "corporate-wright",
   "metadata": {},
   "outputs": [
    {
     "data": {
      "text/plain": [
       "array([[1, 1, 1, 1, 1, 1, 1, 1, 1, 1],\n",
       "       [1, 1, 1, 1, 1, 1, 1, 1, 1, 1],\n",
       "       [1, 1, 1, 1, 1, 1, 1, 1, 1, 1],\n",
       "       [1, 1, 1, 1, 1, 1, 1, 1, 1, 1],\n",
       "       [1, 1, 1, 1, 1, 1, 1, 1, 1, 1],\n",
       "       [3, 3, 3, 3, 3, 3, 3, 3, 3, 3],\n",
       "       [3, 3, 3, 3, 3, 3, 3, 3, 3, 3],\n",
       "       [3, 3, 3, 3, 3, 3, 3, 3, 3, 3],\n",
       "       [3, 3, 3, 3, 3, 3, 3, 3, 3, 3],\n",
       "       [3, 3, 3, 3, 3, 3, 3, 3, 3, 3]])"
      ]
     },
     "execution_count": 128,
     "metadata": {},
     "output_type": "execute_result"
    }
   ],
   "source": [
    "A"
   ]
  },
  {
   "cell_type": "code",
   "execution_count": 132,
   "id": "worst-point",
   "metadata": {},
   "outputs": [],
   "source": [
    "A[5:7,:]=25\n",
    "# nie wiem czy wlacznie czy wylacznie"
   ]
  },
  {
   "cell_type": "code",
   "execution_count": 133,
   "id": "postal-contrary",
   "metadata": {},
   "outputs": [
    {
     "data": {
      "text/plain": [
       "array([[ 1,  1,  1,  1,  1,  1,  1,  1,  1,  1],\n",
       "       [ 1,  1,  1,  1,  1,  1,  1,  1,  1,  1],\n",
       "       [ 1,  1,  1,  1,  1,  1,  1,  1,  1,  1],\n",
       "       [ 1,  1,  1,  1,  1,  1,  1,  1,  1,  1],\n",
       "       [ 1,  1,  1,  1,  1,  1,  1,  1,  1,  1],\n",
       "       [25, 25, 25, 25, 25, 25, 25, 25, 25, 25],\n",
       "       [25, 25, 25, 25, 25, 25, 25, 25, 25, 25],\n",
       "       [ 3,  3,  3,  3,  3,  3,  3,  3,  3,  3],\n",
       "       [ 3,  3,  3,  3,  3,  3,  3,  3,  3,  3],\n",
       "       [ 3,  3,  3,  3,  3,  3,  3,  3,  3,  3]])"
      ]
     },
     "execution_count": 133,
     "metadata": {},
     "output_type": "execute_result"
    }
   ],
   "source": [
    "A"
   ]
  },
  {
   "cell_type": "code",
   "execution_count": null,
   "id": "royal-engine",
   "metadata": {},
   "outputs": [],
   "source": []
  }
 ],
 "metadata": {
  "kernelspec": {
   "display_name": "Python 3 (ipykernel)",
   "language": "python",
   "name": "python3"
  },
  "language_info": {
   "codemirror_mode": {
    "name": "ipython",
    "version": 3
   },
   "file_extension": ".py",
   "mimetype": "text/x-python",
   "name": "python",
   "nbconvert_exporter": "python",
   "pygments_lexer": "ipython3",
   "version": "3.11.2"
  }
 },
 "nbformat": 4,
 "nbformat_minor": 5
}

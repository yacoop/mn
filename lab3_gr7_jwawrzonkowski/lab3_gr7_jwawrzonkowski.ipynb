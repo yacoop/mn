{
 "cells": [
  {
   "cell_type": "code",
   "execution_count": 1,
   "id": "occupied-dictionary",
   "metadata": {},
   "outputs": [],
   "source": [
    "import numpy as np\n",
    "import scipy.linalg as sl"
   ]
  },
  {
   "cell_type": "code",
   "execution_count": 2,
   "id": "advanced-reduction",
   "metadata": {},
   "outputs": [],
   "source": [
    "A = np.array([[2, -1, 0, -1],\n",
    "              [-1, 5, -3, -3],\n",
    "              [1, -1, -3, 2],\n",
    "              [1, -2, -1, 2]])"
   ]
  },
  {
   "cell_type": "code",
   "execution_count": 3,
   "id": "hawaiian-blank",
   "metadata": {},
   "outputs": [],
   "source": [
    "def L_calc(a, b):\n",
    "    n, m = a.shape\n",
    "    x = np.zeros(n)\n",
    "    for i in range(0, n):\n",
    "        x[i] = ( b[i] - np.sum( a[i, 0:i] * x[0:i]) ) / a[i, i]\n",
    "    return x"
   ]
  },
  {
   "cell_type": "code",
   "execution_count": 4,
   "id": "absent-yemen",
   "metadata": {},
   "outputs": [],
   "source": [
    "def U_calc(a, b):\n",
    "    n, m = a.shape\n",
    "    x = np.zeros(n)             \n",
    "    for i in range(n-1, -1, -1):\n",
    "        x[i] = ( b[i] - np.sum( a[i, i:n] * x[i:n] ) ) / a[i, i]\n",
    "    return x"
   ]
  },
  {
   "cell_type": "code",
   "execution_count": 5,
   "id": "defined-colleague",
   "metadata": {},
   "outputs": [],
   "source": [
    "def inverse(A):\n",
    "    n, m = A.shape\n",
    "    P, L, U = sl.lu(A)\n",
    "    y = []\n",
    "    x = []\n",
    "    xs = np.zeros((n,n))\n",
    "    for i in range(n):\n",
    "        y = L_calc(L, P[:,i])\n",
    "        x = U_calc(U, y)\n",
    "        xs[i] = x\n",
    "    return xs.T"
   ]
  },
  {
   "cell_type": "code",
   "execution_count": 6,
   "id": "level-liberal",
   "metadata": {
    "scrolled": true
   },
   "outputs": [
    {
     "data": {
      "text/plain": [
       "array([[ -0.5,   4.5, -10. ,  16.5],\n",
       "       [ -1. ,   5. , -11. ,  18. ],\n",
       "       [ -0.5,   2.5,  -6. ,   9.5],\n",
       "       [ -1. ,   4. ,  -9. ,  15. ]])"
      ]
     },
     "execution_count": 6,
     "metadata": {},
     "output_type": "execute_result"
    }
   ],
   "source": [
    "inverse(A)"
   ]
  },
  {
   "cell_type": "code",
   "execution_count": 7,
   "id": "uniform-commonwealth",
   "metadata": {},
   "outputs": [
    {
     "data": {
      "text/plain": [
       "array([[ -0.5,   4.5, -10. ,  16.5],\n",
       "       [ -1. ,   5. , -11. ,  18. ],\n",
       "       [ -0.5,   2.5,  -6. ,   9.5],\n",
       "       [ -1. ,   4. ,  -9. ,  15. ]])"
      ]
     },
     "execution_count": 7,
     "metadata": {},
     "output_type": "execute_result"
    }
   ],
   "source": [
    "np.linalg.inv(A)"
   ]
  }
 ],
 "metadata": {
  "kernelspec": {
   "display_name": "Python 3",
   "language": "python",
   "name": "python3"
  },
  "language_info": {
   "codemirror_mode": {
    "name": "ipython",
    "version": 3
   },
   "file_extension": ".py",
   "mimetype": "text/x-python",
   "name": "python",
   "nbconvert_exporter": "python",
   "pygments_lexer": "ipython3",
   "version": "3.9.2"
  }
 },
 "nbformat": 4,
 "nbformat_minor": 5
}

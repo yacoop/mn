{
 "cells": [
  {
   "cell_type": "code",
   "execution_count": 1,
   "id": "direct-eleven",
   "metadata": {},
   "outputs": [],
   "source": [
    "import numpy as np"
   ]
  },
  {
   "cell_type": "code",
   "execution_count": 2,
   "id": "prospective-christian",
   "metadata": {},
   "outputs": [
    {
     "data": {
      "text/plain": [
       "array([[ 1,  2, -1],\n",
       "       [ 1,  4,  5],\n",
       "       [ 1,  4,  1]])"
      ]
     },
     "execution_count": 2,
     "metadata": {},
     "output_type": "execute_result"
    }
   ],
   "source": [
    "A = np.array([[1,2,-1],[1,4,5],[1,4,1]])\n",
    "A"
   ]
  },
  {
   "cell_type": "code",
   "execution_count": 3,
   "id": "orange-compression",
   "metadata": {},
   "outputs": [],
   "source": [
    "def getv(A, i):\n",
    "    n,m = A.shape\n",
    "    I = np.eye(n)\n",
    "    a = np.zeros(n)\n",
    "    \n",
    "    a[i:] = A[i:,i]\n",
    "#     print(\"a\"+str(i))\n",
    "#     print(a)\n",
    "    \n",
    "    norm = np.sqrt(sum((a[:]**2)))\n",
    "    \n",
    "    v = a + norm * I[:,i]\n",
    "    v = v[:,None]\n",
    "#     print(\"v\"+str(i))\n",
    "#     print(v)\n",
    "    return v"
   ]
  },
  {
   "cell_type": "code",
   "execution_count": 4,
   "id": "current-ladder",
   "metadata": {},
   "outputs": [],
   "source": [
    "def getH(A,i):\n",
    "    n,m = A.shape\n",
    "    I = np.eye(n)\n",
    "        \n",
    "    v = getv(A,i)\n",
    "    H = I - 2/(v.T@v)*(v@v.T)\n",
    "#     print(\"H\"+st(i))\n",
    "#     print(H)\n",
    "    return H\n",
    "    "
   ]
  },
  {
   "cell_type": "code",
   "execution_count": 5,
   "id": "valued-crowd",
   "metadata": {},
   "outputs": [],
   "source": [
    "def getqr(A):\n",
    "    n,m = A.shape\n",
    "    R = A.copy()\n",
    "    Q = np.eye(n)\n",
    "    \n",
    "    for i in range(n-1):\n",
    "        H = getH(R,i)\n",
    "        R = H@R\n",
    "        Q = Q@H\n",
    "#         print(\"R\"+str(i))\n",
    "#         print(R)\n",
    "\n",
    "    return Q, R\n",
    "        "
   ]
  },
  {
   "cell_type": "code",
   "execution_count": 6,
   "id": "speaking-sperm",
   "metadata": {},
   "outputs": [
    {
     "name": "stdout",
     "output_type": "stream",
     "text": [
      "Z mojej funkcji:\n",
      "Q:\n",
      " [[-0.57735  0.8165  -0.     ]\n",
      " [-0.57735 -0.40825 -0.70711]\n",
      " [-0.57735 -0.40825  0.70711]]\n",
      "R:\n",
      " [[-1.73205 -5.7735  -2.88675]\n",
      " [ 0.      -1.63299 -3.26599]\n",
      " [ 0.       0.      -2.82843]]\n"
     ]
    }
   ],
   "source": [
    "Q, R = getqr(A)\n",
    "print(\"Z mojej funkcji:\")\n",
    "print(\"Q:\\n\",np.round(Q,5))\n",
    "print(\"R:\\n\",np.round(R, 5))"
   ]
  },
  {
   "cell_type": "code",
   "execution_count": 7,
   "id": "becoming-configuration",
   "metadata": {},
   "outputs": [
    {
     "name": "stdout",
     "output_type": "stream",
     "text": [
      "Z funkcji wbudowanej:\n",
      "Q:\n",
      " [[-0.57735  0.8165  -0.     ]\n",
      " [-0.57735 -0.40825 -0.70711]\n",
      " [-0.57735 -0.40825  0.70711]]\n",
      "R:\n",
      " [[-1.73205 -5.7735  -2.88675]\n",
      " [ 0.      -1.63299 -3.26599]\n",
      " [ 0.       0.      -2.82843]]\n"
     ]
    }
   ],
   "source": [
    "q, r = np.linalg.qr(A)\n",
    "print(\"Z funkcji wbudowanej:\")\n",
    "print(\"Q:\\n\",np.round(q,5))\n",
    "print(\"R:\\n\",np.round(r, 5))"
   ]
  }
 ],
 "metadata": {
  "kernelspec": {
   "display_name": "Python 3",
   "language": "python",
   "name": "python3"
  },
  "language_info": {
   "codemirror_mode": {
    "name": "ipython",
    "version": 3
   },
   "file_extension": ".py",
   "mimetype": "text/x-python",
   "name": "python",
   "nbconvert_exporter": "python",
   "pygments_lexer": "ipython3",
   "version": "3.9.2"
  }
 },
 "nbformat": 4,
 "nbformat_minor": 5
}

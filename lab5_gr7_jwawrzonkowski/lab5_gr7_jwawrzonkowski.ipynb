{
 "cells": [
  {
   "cell_type": "code",
   "execution_count": 2,
   "id": "european-interference",
   "metadata": {},
   "outputs": [],
   "source": [
    "import matplotlib.pyplot as plt\n",
    "import numpy as np"
   ]
  },
  {
   "cell_type": "code",
   "execution_count": 3,
   "id": "smaller-spokesman",
   "metadata": {},
   "outputs": [],
   "source": [
    "x = [1, 2, 4, 5, 7]\n",
    "y = [52, 5, -5, -40, 10]\n",
    "n = len(x)\n",
    "A = np.zeros((n,n))\n",
    "A[0,:] = y"
   ]
  },
  {
   "cell_type": "code",
   "execution_count": 4,
   "id": "superb-nylon",
   "metadata": {},
   "outputs": [],
   "source": [
    "def geta(x,A):\n",
    "\n",
    "    for i in range(1, n):\n",
    "        for j in range(n-i):\n",
    "            A[i,j] = (A[i-1,j]-A[i-1,j+1])/(x[j]-x[j+i])\n",
    "    a = A[:,0]\n",
    "    return a"
   ]
  },
  {
   "cell_type": "code",
   "execution_count": 5,
   "id": "hispanic-glory",
   "metadata": {},
   "outputs": [],
   "source": [
    "def W(x, d, a):\n",
    "    w = np.insert(x - d[:-1], 0, 1)\n",
    "    w = np.cumprod(w)\n",
    "    return a @ w"
   ]
  },
  {
   "cell_type": "code",
   "execution_count": 6,
   "id": "demographic-jerusalem",
   "metadata": {},
   "outputs": [
    {
     "name": "stdout",
     "output_type": "stream",
     "text": [
      "wspolczynniki: [ 52. -47.  14.  -6.   2.]\n"
     ]
    }
   ],
   "source": [
    "a = geta(x,A)\n",
    "print(\"wspolczynniki:\",a)\n",
    "xs = np.arange(0.5,7.5,0.1)\n",
    "ys = [W(xs,x,a) for xs in xs]"
   ]
  },
  {
   "cell_type": "code",
   "execution_count": 7,
   "id": "modern-exception",
   "metadata": {},
   "outputs": [
    {
     "data": {
      "text/plain": [
       "<Figure size 720x432 with 0 Axes>"
      ]
     },
     "execution_count": 7,
     "metadata": {},
     "output_type": "execute_result"
    },
    {
     "data": {
      "image/png": "[encoded data removed]",
      "text/plain": [
       "<Figure size 432x288 with 1 Axes>"
      ]
     },
     "metadata": {
      "needs_background": "light"
     },
     "output_type": "display_data"
    },
    {
     "data": {
      "text/plain": [
       "<Figure size 720x432 with 0 Axes>"
      ]
     },
     "metadata": {},
     "output_type": "display_data"
    }
   ],
   "source": [
    "plt.plot(xs,ys, label=\"interpolacja\")\n",
    "plt.plot(x, y, \"o\", ms = 5, label=\"dane\")\n",
    "plt.legend()\n"
   ]
  },
  {
   "cell_type": "code",
   "execution_count": null,
   "id": "severe-highlight",
   "metadata": {},
   "outputs": [],
   "source": []
  },
  {
   "cell_type": "code",
   "execution_count": null,
   "id": "twenty-luxembourg",
   "metadata": {},
   "outputs": [],
   "source": []
  },
  {
   "cell_type": "code",
   "execution_count": null,
   "id": "appropriate-confidence",
   "metadata": {},
   "outputs": [],
   "source": []
  }
 ],
 "metadata": {
  "kernelspec": {
   "display_name": "Python 3",
   "language": "python",
   "name": "python3"
  },
  "language_info": {
   "codemirror_mode": {
    "name": "ipython",
    "version": 3
   },
   "file_extension": ".py",
   "mimetype": "text/x-python",
   "name": "python",
   "nbconvert_exporter": "python",
   "pygments_lexer": "ipython3",
   "version": "3.9.2"
  }
 },
 "nbformat": 4,
 "nbformat_minor": 5
}
